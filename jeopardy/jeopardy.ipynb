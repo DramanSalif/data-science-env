{
 "cells": [
  {
   "cell_type": "markdown",
   "metadata": {},
   "source": [
    "# This is Jeopardy!"
   ]
  },
  {
   "cell_type": "code",
   "execution_count": 1,
   "metadata": {},
   "outputs": [],
   "source": [
    "import pandas as pd\n",
    "import string\n",
    "import re\n",
    "import random\n",
    "pd.set_option('display.max_colwidth', None)"
   ]
  },
  {
   "cell_type": "code",
   "execution_count": 2,
   "metadata": {},
   "outputs": [],
   "source": [
    "#Load the data into a DataFrame and investigate its contents.\n",
    "df = pd.read_csv(\"jeopardy.csv\")\n",
    "\n",
    "#inspect the dataframe attributes\n",
    "firstrow_list = df.columns.tolist()\n",
    "\n",
    "#print(firstrow_list)\n",
    "\n",
    "#Rename the columns \n",
    "df.columns = ['Show_Number', 'Air_Date', 'Round', 'Category', 'Value', 'Question', 'Answer']\n",
    "\n",
    "#print(df.head())\n",
    "\n",
    "#print(df.Question.head())\n",
    "\n",
    "testList = [\"King\", \"England\"]\n"
   ]
  },
  {
   "cell_type": "code",
   "execution_count": 3,
   "metadata": {},
   "outputs": [
    {
     "name": "stdout",
     "output_type": "stream",
     "text": [
      "        Show_Number    Air_Date             Round               Category  \\\n",
      "4953           3003  1997-09-24  Double Jeopardy!           \"PH\"UN WORDS   \n",
      "6337           3517  1999-12-14  Double Jeopardy!                    Y1K   \n",
      "9191           3907  2001-09-04  Double Jeopardy!         WON THE BATTLE   \n",
      "11710          2903  1997-03-26  Double Jeopardy!       BRITISH MONARCHS   \n",
      "13454          4726  2005-03-07         Jeopardy!  A NUMBER FROM 1 TO 10   \n",
      "...             ...         ...               ...                    ...   \n",
      "208295         4621  2004-10-11         Jeopardy!            THE VIKINGS   \n",
      "208742         4863  2005-11-02  Double Jeopardy!         BEFORE & AFTER   \n",
      "213870         5856  2010-02-15  Double Jeopardy!                 URANUS   \n",
      "216021         1881  1992-11-09  Double Jeopardy!         HISTORIC NAMES   \n",
      "216789         5070  2006-09-29  Double Jeopardy!        ANCIENT HISTORY   \n",
      "\n",
      "         Value  \\\n",
      "4953      $200   \n",
      "6337      $800   \n",
      "9191      $800   \n",
      "11710     $600   \n",
      "13454    $1000   \n",
      "...        ...   \n",
      "208295    $600   \n",
      "208742  $3,000   \n",
      "213870   $1600   \n",
      "216021   $1000   \n",
      "216789   $1200   \n",
      "\n",
      "                                                                                                      Question  \\\n",
      "4953                  Both England's King George V & FDR put their stamp of approval on this \"King of Hobbies\"   \n",
      "6337    In retaliation for Viking raids, this \"Unready\" king of England attacks Norse areas of the Isle of Man   \n",
      "9191                  This king of England beat the odds to trounce the French in the 1415 Battle of Agincourt   \n",
      "11710             This Scotsman, the first Stuart king of England, was called \"The Wisest Fool in Christendom\"   \n",
      "13454                                     It's the number that followed the last king of England named William   \n",
      "...                                                                                                        ...   \n",
      "208295      In 1066 this great-great grandson of Rollo made what some call the last Viking invasion of England   \n",
      "208742                    Dutch-born king who ruled England jointly with Mary II & is a tasty New Zealand fish   \n",
      "213870              In 1781 William Herschel discovered Uranus & initially named it after this king of England   \n",
      "216021        His nickname was \"Bertie\", but he used this name & number when he became king of England in 1901   \n",
      "216789      This kingdom of England grew from 2 settlements, one founded around 495 by Cerdic & his son Cynric   \n",
      "\n",
      "                              Answer  \n",
      "4953    Philately (stamp collecting)  \n",
      "6337                        Ethelred  \n",
      "9191                         Henry V  \n",
      "11710                        James I  \n",
      "13454                              4  \n",
      "...                              ...  \n",
      "208295         William the Conqueror  \n",
      "208742      William of Orange roughy  \n",
      "213870                    George III  \n",
      "216021                    Edward VII  \n",
      "216789                        Wessex  \n",
      "\n",
      "[152 rows x 7 columns]\n"
     ]
    }
   ],
   "source": [
    "# Write a function that filters the dataset for questions that contains all of the words in a list of words.\n",
    "def filter_question( dataframe, words_list):\n",
    "    \"\"\"This function filters the dataset for questions that contains all of the words in a list of words.\n",
    "    Args:\n",
    "        data, words: List of words in question coulumn\n",
    "    Returns:\n",
    "        [type]: Dataframe \n",
    "    \"\"\"\n",
    "    filter = lambda x: all(word.lower() in x.lower() for word in words_list)\n",
    "    return dataframe.loc[dataframe[\"Question\" ].apply(filter)]\n",
    "\n",
    "print(filter_question(df,testList))"
   ]
  },
  {
   "cell_type": "markdown",
   "metadata": {},
   "source": [
    "## Clean the dataset\n",
    "Clean the new_value column values before converting them to float. "
   ]
  },
  {
   "cell_type": "code",
   "execution_count": 4,
   "metadata": {},
   "outputs": [],
   "source": [
    "#create new column with without the dollar sign\n",
    "df['new_Value'] = df.Value.str.strip('$')\n",
    "#print(df.head(25))"
   ]
  },
  {
   "cell_type": "code",
   "execution_count": 5,
   "metadata": {},
   "outputs": [
    {
     "name": "stdout",
     "output_type": "stream",
     "text": [
      "['2,000', '3,200', '5,000', '1,000', '1,500', '1,200', '4,800', '1,800', '1,100', '2,200', '3,400', '3,000', '4,000', '1,600', '6,800', '1,900', '3,100', '1,400', '2,800', '8,000', '6,000', '2,400', '12,000', '3,800', '2,500', '6,200', '10,000', '7,000', '1,492', '7,400', '1,300', '7,200', '2,600', '3,300', '5,400', '4,500', '2,100', '3,600', '2,127', '4,400', '3,500', '2,900', '3,900', '4,100', '4,600', '10,800', '2,300', '5,600', '1,111', '8,200', '5,800', '7,500', '1,700', '9,000', '6,100', '1,020', '4,700', '2,021', '5,200', '3,389', '4,200', '2,001', '1,263', '4,637', '3,201', '6,600', '3,700', '2,990', '5,500', '14,000', '2,700', '6,400', '8,600', '6,300', '3,989', '8,917', '9,500', '1,246', '6,435', '8,800', '2,222', '2,746', '10,400', '7,600', '6,700', '5,100', '13,200', '4,300', '1,407', '12,400', '5,401', '7,800', '1,183', '1,203', '13,000', '11,600', '14,200', '1,809', '8,400', '8,700', '11,000', '5,201', '1,801', '3,499', '5,700', '4,008', '2,344', '2,811', '18,000', '1,777', '3,599', '9,800', '3,150', '1,810', '9,200', '1,512', '8,500', '1,534', '13,800', '5,001', '4,238', '16,400', '1,347', '11,200']\n"
     ]
    }
   ],
   "source": [
    "# Inspecting the string values in the dataset\n",
    "# In addition to string with 'None' value, there are values with coma to clean before converting to type float\n",
    "distinct_dtr_values = []\n",
    "for i in range(len(df['new_Value'])):\n",
    "    if (len(df['new_Value'].iloc[i]) > 4) & (df['new_Value'].iloc[i] not in distinct_dtr_values):\n",
    "        distinct_dtr_values.append(df['new_Value'].iloc[i])\n",
    "\n",
    "print(distinct_dtr_values)\n",
    "        \n",
    "\n",
    "    "
   ]
  },
  {
   "cell_type": "code",
   "execution_count": 6,
   "metadata": {},
   "outputs": [],
   "source": [
    "# Clean the dataset by removing the comma in the string values with punctuation and by replacing the None value by 0.\n",
    "df['new_Value'] = df['new_Value'].apply(lambda v: v.translate(v.maketrans('','', string.punctuation)) if v != 'None' else 0 )\n",
    "\n"
   ]
  },
  {
   "cell_type": "markdown",
   "metadata": {},
   "source": [
    "## Convert the string values to float"
   ]
  },
  {
   "cell_type": "code",
   "execution_count": 7,
   "metadata": {},
   "outputs": [
    {
     "name": "stdout",
     "output_type": "stream",
     "text": [
      "0          200.0\n",
      "1          200.0\n",
      "2          200.0\n",
      "3          200.0\n",
      "4          200.0\n",
      "           ...  \n",
      "216925    2000.0\n",
      "216926    2000.0\n",
      "216927    2000.0\n",
      "216928    2000.0\n",
      "216929       0.0\n",
      "Name: new_Value, Length: 216930, dtype: float64\n"
     ]
    }
   ],
   "source": [
    "# Convert the new_Value column values to floats\n",
    "df['new_Value'] = df['new_Value'].astype(float)\n",
    "\n",
    "print(df['new_Value'])"
   ]
  },
  {
   "cell_type": "code",
   "execution_count": 8,
   "metadata": {},
   "outputs": [
    {
     "name": "stdout",
     "output_type": "stream",
     "text": [
      "739.99\n"
     ]
    }
   ],
   "source": [
    "#average value of the new column\n",
    "def average_value(col):\n",
    "    \"\"\"This function calculate the average value of a col column which values are converted to floats \n",
    "\n",
    "    Args:\n",
    "        col : a column with float values\n",
    "\n",
    "    Returns:\n",
    "        [type]: float\n",
    "    \"\"\"\n",
    "    avg = round(col.mean(), 2)\n",
    "    return avg\n",
    "\n",
    "print(average_value(df.new_Value))"
   ]
  },
  {
   "cell_type": "code",
   "execution_count": 9,
   "metadata": {},
   "outputs": [
    {
     "name": "stdout",
     "output_type": "stream",
     "text": [
      "                                                                                                                   question  \\\n",
      "0   \"Kings play chess on finely grained sand\" is a mnemonic device used to help remember a system devised by this scientist   \n",
      "1                                                                \"Kingdom\" that Khrushchev couldn't visit in 1959 U.S. trip   \n",
      "2                                                                     \"King\" of the dinosaurs who starred in \"My Fair Lady\"   \n",
      "3                                                                                              \"King\" of nonsense poets (4)   \n",
      "4                   \"King of the World\" chronicles \"The Rise of an American Hero\", this legendary boxer & minister of Islam   \n",
      "5                    \"King of the Waltz\" Johann Strauss Jr. wrote in other dance forms too, like the \"Tritsch-Tratsch\" this   \n",
      "6                         \"King of the Hill\"'s guitar-playing comedian Celery Head is a spoof of this red-haired prop comic   \n",
      "7                                                                       \"King of Queens\" Kevin, or king of the court LeBron   \n",
      "8                                                                                                                \"King me!\"   \n",
      "9                                                           \"King Richard\" of NASCAR fame who won a record 27 races in 1967   \n",
      "10              \"King Philip\", who led bloody Indian war, was son of Massasoit who, in 1621, met these people in friendship   \n",
      "11                    \"King Me\" if you know that Petal, Mississippi is home to the international hall of fame for this game   \n",
      "12                          \"King Mackerel & The Blues Are Running\" is a musical revue set in the Outer Banks of this state   \n",
      "13                                                           \"King John\" & \"King Henry V\" are both set in these 2 countries   \n",
      "\n",
      "                          answer  unique_value  \n",
      "0               Carolus Linnaeus             1  \n",
      "1   the Magic Kingdom/Disneyland             1  \n",
      "2     Tyrannosaurus rex harrison             1  \n",
      "3                  (Edward) Lear             1  \n",
      "4                   Muhammad Ali             1  \n",
      "5                      the polka             1  \n",
      "6                     Carrot Top             1  \n",
      "7                          James             1  \n",
      "8                       Checkers             1  \n",
      "9                (Richard) Petty             1  \n",
      "10                  the Pilgrims             1  \n",
      "11                      checkers             1  \n",
      "12                North Carolina             1  \n",
      "13              England & France             1  \n"
     ]
    }
   ],
   "source": [
    "#Write a function that returns the count of the unique answers to all of the questions in a dataset.\n",
    "\n",
    "\n",
    "def get_count_unique(data, word, col_label1, col_label2):\n",
    "    \"\"\"This function filters the dataset for all the questions that contain the given word and returns the count of the unique answers to all of the questions in the dataset.\n",
    "\n",
    "    Args:\n",
    "        dataset, word, col_label1, col_label2: a word in the question column\n",
    "\n",
    "    Returns:\n",
    "        [type]: Dataframe \n",
    "    \"\"\"\n",
    "    indice_list = []\n",
    "    answer_list = []\n",
    "    question_list = []\n",
    "   \n",
    "\n",
    "    # get the indexes of the questions that contain the given word    \n",
    "    for i in data.index:\n",
    "        if data.loc[i, col_label1].find(word) == True:\n",
    "            indice_list.append(i)\n",
    "    #get the correspondent Answer for each selected indice\n",
    "    for j in indice_list:\n",
    "        question_list.append(data.loc[j, col_label1])\n",
    "        answer_list.append(data.loc[j, col_label2])\n",
    "\n",
    "    # return  a Series containing counts of unique rows in the DataFrame of Answer_list\n",
    "    unique_answer = pd.DataFrame(answer_list, question_list).reset_index()\n",
    "    \n",
    "    # rename the columns\n",
    "    unique_answer.columns = ['question', 'answer']\n",
    "    \n",
    "    #count unique values\n",
    "    val_counts = unique_answer.value_counts()\n",
    "    \n",
    "    #converting to DataFrame and assigning the column names.\n",
    "    df_val_counts = pd.DataFrame(val_counts).reset_index()\n",
    "    df_val_counts.columns = ['question', 'answer', 'unique_value']\n",
    "                                      \n",
    "    return df_val_counts\n",
    "\n",
    "\n",
    "            \n",
    "print(get_count_unique(df, 'King', 'Question', 'Answer'))"
   ]
  },
  {
   "cell_type": "markdown",
   "metadata": {},
   "source": [
    "## Dataset Exploration\n",
    "\n",
    "First, we are going to investigate the ways in which questions change over time by filtering by the date. Then we are going to count how many questions from the 90s use the word ```\"Computer\"``` compared to questions from the 2000s.\n",
    "\n",
    "Next, we are going to check if there is a connection between the round and the category. Are you more likely to find certain categories, like ```\"Literature\"``` in Single Jeopardy or Double Jeopardy?"
   ]
  },
  {
   "cell_type": "code",
   "execution_count": 10,
   "metadata": {},
   "outputs": [
    {
     "name": "stdout",
     "output_type": "stream",
     "text": [
      "                                                                                                     question  \\\n",
      "0  \"Computer, Communication, Compatibility\" were combined to describe the business of this Silicon Valley co.   \n",
      "\n",
      "       answer  unique_value  \n",
      "0  2008-02-25             1  \n"
     ]
    }
   ],
   "source": [
    "print(get_count_unique(df, 'Computer', 'Question', 'Air_Date' ))"
   ]
  },
  {
   "cell_type": "code",
   "execution_count": 11,
   "metadata": {},
   "outputs": [
    {
     "name": "stdout",
     "output_type": "stream",
     "text": [
      "        Show_Number    Air_Date             Round  \\\n",
      "4953           3003  1997-09-24  Double Jeopardy!   \n",
      "6337           3517  1999-12-14  Double Jeopardy!   \n",
      "9191           3907  2001-09-04  Double Jeopardy!   \n",
      "11710          2903  1997-03-26  Double Jeopardy!   \n",
      "13454          4726  2005-03-07         Jeopardy!   \n",
      "...             ...         ...               ...   \n",
      "201168         3515  1999-12-10         Jeopardy!   \n",
      "204778         5899  2010-04-15  Double Jeopardy!   \n",
      "208742         4863  2005-11-02  Double Jeopardy!   \n",
      "213870         5856  2010-02-15  Double Jeopardy!   \n",
      "216021         1881  1992-11-09  Double Jeopardy!   \n",
      "\n",
      "                             Category   Value  \\\n",
      "4953                     \"PH\"UN WORDS    $200   \n",
      "6337                              Y1K    $800   \n",
      "9191                   WON THE BATTLE    $800   \n",
      "11710                BRITISH MONARCHS    $600   \n",
      "13454           A NUMBER FROM 1 TO 10   $1000   \n",
      "...                               ...     ...   \n",
      "201168                 BEFORE & AFTER    $500   \n",
      "204778  THE 13 COLONIES' NAME ORIGINS   $1200   \n",
      "208742                 BEFORE & AFTER  $3,000   \n",
      "213870                         URANUS   $1600   \n",
      "216021                 HISTORIC NAMES   $1000   \n",
      "\n",
      "                                                                                                      Question  \\\n",
      "4953                  Both England's King George V & FDR put their stamp of approval on this \"King of Hobbies\"   \n",
      "6337    In retaliation for Viking raids, this \"Unready\" king of England attacks Norse areas of the Isle of Man   \n",
      "9191                  This king of England beat the odds to trounce the French in the 1415 Battle of Agincourt   \n",
      "11710             This Scotsman, the first Stuart king of England, was called \"The Wisest Fool in Christendom\"   \n",
      "13454                                     It's the number that followed the last king of England named William   \n",
      "...                                                                                                        ...   \n",
      "201168                                Popular Saint-Exupery character waiting around to become king of England   \n",
      "204778                               This southern colony was named for a king of England, the II of that name   \n",
      "208742                    Dutch-born king who ruled England jointly with Mary II & is a tasty New Zealand fish   \n",
      "213870              In 1781 William Herschel discovered Uranus & initially named it after this king of England   \n",
      "216021        His nickname was \"Bertie\", but he used this name & number when he became king of England in 1901   \n",
      "\n",
      "                              Answer  new_Value  \n",
      "4953    Philately (stamp collecting)      200.0  \n",
      "6337                        Ethelred      800.0  \n",
      "9191                         Henry V      800.0  \n",
      "11710                        James I      600.0  \n",
      "13454                              4     1000.0  \n",
      "...                              ...        ...  \n",
      "201168    The Little Prince of Wales      500.0  \n",
      "204778                       Georgia     1200.0  \n",
      "208742      William of Orange roughy     3000.0  \n",
      "213870                    George III     1600.0  \n",
      "216021                    Edward VII     1000.0  \n",
      "\n",
      "[118 rows x 8 columns]\n"
     ]
    }
   ],
   "source": [
    "# this version uses a regex expression to only match whole words, not substrings\n",
    "def filter_questions_regex(string_list):\n",
    "    filter = lambda question : all(re.search(r'\\b' + string.lower() + r'\\b', question.lower()) for string in string_list)\n",
    "    return df[df.Question.apply(filter)]\n",
    "\n",
    "print(filter_questions_regex(testList))"
   ]
  },
  {
   "cell_type": "code",
   "execution_count": 12,
   "metadata": {},
   "outputs": [
    {
     "name": "stdout",
     "output_type": "stream",
     "text": [
      "   Answer  Show_Number\n",
      "17  Apple           12\n",
      "84    IBM           12\n"
     ]
    }
   ],
   "source": [
    "# get most common answer for questions selected by words from a list\n",
    "def get_most_frequente_answer(words_list):\n",
    "    filtered = filter_question(df, words_list)\n",
    "    answers = filtered.groupby('Answer').Show_Number.count().reset_index()\n",
    "    most_selected = answers[answers.Show_Number == answers.Show_Number.max()]\n",
    "    return most_selected\n",
    "\n",
    "#print(get_most_frequente_answer(['King']))\n",
    "print(get_most_frequente_answer(['Computer']))\n",
    "#print(get_most_frequente_answer(testList))"
   ]
  },
  {
   "cell_type": "markdown",
   "metadata": {},
   "source": [
    "### Investigate the ways in which questions change over time by filtering by the date"
   ]
  },
  {
   "cell_type": "code",
   "execution_count": 13,
   "metadata": {},
   "outputs": [
    {
     "name": "stdout",
     "output_type": "stream",
     "text": [
      "  decades  Question\n",
      "0   1980s         6\n",
      "1   1990s        98\n",
      "2   2000s       268\n",
      "3   2010s        59\n"
     ]
    },
    {
     "name": "stderr",
     "output_type": "stream",
     "text": [
      "<ipython-input-13-8c1b984d1bfe>:26: SettingWithCopyWarning: \n",
      "A value is trying to be set on a copy of a slice from a DataFrame.\n",
      "Try using .loc[row_indexer,col_indexer] = value instead\n",
      "\n",
      "See the caveats in the documentation: https://pandas.pydata.org/pandas-docs/stable/user_guide/indexing.html#returning-a-view-versus-a-copy\n",
      "  filtered['Air_Date'] = filtered['Air_Date'].str.replace('-', '')\n",
      "<ipython-input-13-8c1b984d1bfe>:27: SettingWithCopyWarning: \n",
      "A value is trying to be set on a copy of a slice from a DataFrame.\n",
      "Try using .loc[row_indexer,col_indexer] = value instead\n",
      "\n",
      "See the caveats in the documentation: https://pandas.pydata.org/pandas-docs/stable/user_guide/indexing.html#returning-a-view-versus-a-copy\n",
      "  filtered['year'] = pd.to_numeric(pd.DatetimeIndex(filtered['Air_Date']).year)\n",
      "<ipython-input-13-8c1b984d1bfe>:30: SettingWithCopyWarning: \n",
      "A value is trying to be set on a copy of a slice from a DataFrame.\n",
      "Try using .loc[row_indexer,col_indexer] = value instead\n",
      "\n",
      "See the caveats in the documentation: https://pandas.pydata.org/pandas-docs/stable/user_guide/indexing.html#returning-a-view-versus-a-copy\n",
      "  filtered['decades'] = filtered.year.apply( lambda year: decades(year)  )\n"
     ]
    }
   ],
   "source": [
    "#define decades\n",
    "def decades(mydate):\n",
    "    mydate =pd.to_numeric(mydate)\n",
    "    decade70s =  (1970 <= mydate < 1980 and '1970s') \n",
    "    decade80s =  (1980 <= mydate < 1990 and '1980s') \n",
    "    decade90s =  (1990 <= mydate < 2000 and '1990s')\n",
    "    decade00s =  (2000 <= mydate < 2010 and '2000s')\n",
    "    decade10s =  (2010 <= mydate < 2020 and '2010s')\n",
    "    return decade70s  or decade80s  or decade90s  or decade00s  or decade10s\n",
    "\n",
    "# Number of questions from the 90s use the word \"Computer\" compared to questions from the 2000s\n",
    "def filter_by_decade(words_list):\n",
    "    \"\"\"This function filters the dataset for all the questions that contain the givena list of strings and returns \n",
    "    the count of the questions by decade.\n",
    "\n",
    "    Args:\n",
    "       a list of strings\n",
    "\n",
    "    Returns:\n",
    "        [type]: Dataframe \n",
    "    \"\"\"\n",
    "    \n",
    "    filtered = filter_question(df, words_list)\n",
    "    \n",
    "    #extract years in new column as numeric values\n",
    "    filtered['Air_Date'] = filtered['Air_Date'].str.replace('-', '')\n",
    "    filtered['year'] = pd.to_numeric(pd.DatetimeIndex(filtered['Air_Date']).year)\n",
    "    \n",
    "    # create a decades columns in the the filtered DataFrame\n",
    "    filtered['decades'] = filtered.year.apply( lambda year: decades(year)  )\n",
    "    \n",
    "    # define decades DataFrame\n",
    "    decadeDataFrame = filtered.groupby('decades').Question.count().reset_index()\n",
    "    \n",
    "    return decadeDataFrame\n",
    "\n",
    "print(filter_by_decade(['Computer']))"
   ]
  },
  {
   "cell_type": "markdown",
   "metadata": {},
   "source": [
    "### Seaching a connection between the round and the category"
   ]
  },
  {
   "cell_type": "code",
   "execution_count": 14,
   "metadata": {},
   "outputs": [],
   "source": [
    "# Write a function that filters the dataset for questions that contains all of the words in a list of words.\n",
    "def filter_category( dataframe, words_list):\n",
    "    \"\"\"This function filters the dataset for questions that contains all of the words in a list of words.\n",
    "    Args:\n",
    "        data, words: List of words in question coulumn\n",
    "    Returns:\n",
    "        [type]: Dataframe \n",
    "    \"\"\"\n",
    "    filter = lambda x: all(word.lower() in x.lower() for word in words_list)\n",
    "    return dataframe.loc[dataframe[\"Category\" ].apply(filter)]\n",
    "\n",
    "#print(filter_category(df,[\"Literature\"]))\n",
    "\n",
    "def filter_by_round(words_list):\n",
    "    \"\"\"This function filters the dataset for all the categories that contain the given list of strings and returns \n",
    "    the count of the categories by round.\n",
    "\n",
    "    Args:\n",
    "       a list of strings\n",
    "\n",
    "    Returns:\n",
    "        [type]: Dataframe \n",
    "    \"\"\"\n",
    "    \n",
    "    filtered = filter_category(df, words_list)\n",
    "    \n",
    "    \n",
    "    # define decades DataFrame\n",
    "    grouped_df = filtered.groupby('Round').Category.count().reset_index()\n",
    "    \n",
    "    return grouped_df\n",
    "\n",
    "#print(filter_by_round([\"Literature\"]))"
   ]
  },
  {
   "cell_type": "code",
   "execution_count": 15,
   "metadata": {},
   "outputs": [
    {
     "name": "stdout",
     "output_type": "stream",
     "text": [
      "[('In one Grimm tale, 12 princesses dance these to pieces in an underground castle', 'their shoes'), ('Anne Shirley leaves the orphanage to live on this \"colorful\" farm in Avonlea', 'Green Gables'), ('\"The Comic Adventures of\" this elderly woman \"and her Dog\" were first published in 1805', 'Old Mother Hubbard'), ('Dinarzade is the younger sister of this woman known for her nocturnal stories', 'Shahrazad'), ('Madeline is one of \"twelve little girls in two straight lines\" who attend a school in this city', 'Paris'), ('The poem called the \"Garibnameh\" contains 11,000 masnavi, which we know as these rhymed 2-line units of verse', 'couplets'), ('A religious kaside poem praised God, this man or his son-in-law, Ali Ibn Abi Talib, the fourth caliph', 'Muhammad'), ('Sultan Abdulhamid II\\'s censorship hindered Ottoman writers until this \"youthful\" group\\'s 1908 revolution', 'the Young Turks'), ('Peter Ustinov directed & starred in the film version of the Yasar Kemal novel \"Memed, My\" this predatory bird', 'Hawk'), ('Seyid Imadeddin Nesimi wrote 2 of these poetry collections, also a word from Turkish for a couch', 'divan')]\n"
     ]
    }
   ],
   "source": [
    "def get_gl_knowledge_statements():\n",
    "    \n",
    "    #build a list of question-answer\n",
    "    statements = []\n",
    "    question_list = []\n",
    "    answer_list = []\n",
    "    for i in df[:10].index:\n",
    "        question_list.append(df.loc[i, 'Question']) \n",
    "        answer_list.append(df.loc[i, 'Answer'])\n",
    "\n",
    "    statements = zip(question_list, answer_list)\n",
    "    statements = list(zip(question_list, answer_list))\n",
    "    \n",
    "    return  statements\n",
    "\n",
    "#print(get_gl_knowledge_statements())\n",
    "\n",
    "def get_literature_statements():\n",
    "    \n",
    "    litf = filter_category(df,[\"Literature\"])\n",
    "    \n",
    "    #build a list of ten question-answer\n",
    "    statements = []\n",
    "    question_list = []\n",
    "    answer_list = []\n",
    "    for i in litf[:10].index:\n",
    "        question_list.append(litf.loc[i, 'Question'])\n",
    "        answer_list.append(litf.loc[i, 'Answer'])\n",
    "\n",
    "    statements = zip(question_list, answer_list)\n",
    "    statements = list(zip(question_list, answer_list))\n",
    "    \n",
    "    return  statements\n",
    "\n",
    "print(get_literature_statements())\n",
    "    "
   ]
  },
  {
   "cell_type": "code",
   "execution_count": 16,
   "metadata": {},
   "outputs": [],
   "source": [
    "def play_literature_quiz():\n",
    "    \n",
    "    # Get literature statements\n",
    "    literature_statements = get_literature_statements()\n",
    "    \n",
    "    # Randomise literature statements\n",
    "    random.shuffle(literature_statements)\n",
    "    \n",
    "    # set player score to 0\n",
    "    score = 0\n",
    "    \n",
    "    # Show tof statements using a loop\n",
    "    for s in literature_statements:\n",
    "        \n",
    "        # present statement\n",
    "        print(\"Literature: \" + s[0])\n",
    "        \n",
    "        # user enter guess\n",
    "        guess = input(\"Enter your answer: \")\n",
    "        # check if guess is correct\n",
    "        if guess == s[1]:\n",
    "            print(\"Correct!\")\n",
    "            # update score\n",
    "            score += 1\n",
    "        else:\n",
    "            print(\"Incorrect :(\")\n",
    "            \n",
    "    # Show final score\n",
    "    print(\"Your final score is: \" + str(score))\n",
    "\n",
    "\n",
    "def play_gl_knowledge_quiz():\n",
    "    \n",
    "    # Get general knowledge statements\n",
    "    gl_knowledge_statements = get_gl_knowledge_statements()\n",
    "    \n",
    "    # Randomise general knowledge statements\n",
    "    random.shuffle(gl_knowledge_statements)\n",
    "    \n",
    "    # set player score to 0\n",
    "    score = 0\n",
    "    \n",
    "    # Show tof statements using a loop\n",
    "    for s in gl_knowledge_statements:\n",
    "        \n",
    "        # present statement\n",
    "        print(\"General Knowledge: \" + s[0])\n",
    "        \n",
    "        # user enter guess\n",
    "        guess = input(\"Enter your answer: \")\n",
    "        # check if guess is correct\n",
    "        if guess == s[1]:\n",
    "            print(\"Correct!\")\n",
    "            # update score\n",
    "            score += 1\n",
    "        else:\n",
    "            print(\"Incorrect :(\")\n",
    "            \n",
    "    # Show final score\n",
    "    print(\"Your final score is: \" + str(score))"
   ]
  },
  {
   "cell_type": "code",
   "execution_count": 17,
   "metadata": {},
   "outputs": [
    {
     "name": "stdout",
     "output_type": "stream",
     "text": [
      "+--------------------------------+\n",
      "|    Welcome to QUIZ JEOPARDY!   |\n",
      "+--------------------------------+\n",
      "| Please select an option:       |\n",
      "|                                |\n",
      "| 1. Play Literature quiz        |\n",
      "| 2. Play General Knowledge quiz |\n",
      "| 0. Quit                        |\n",
      "+--------------------------------+\n",
      "Enter 1, 2, or 0: 0\n",
      "Thank for your laying!\n"
     ]
    },
    {
     "data": {
      "text/plain": [
       "'0'"
      ]
     },
     "execution_count": 17,
     "metadata": {},
     "output_type": "execute_result"
    }
   ],
   "source": [
    "def main_menu():\n",
    "    \n",
    "    print(\"+--------------------------------+\")\n",
    "    print(\"|    Welcome to QUIZ JEOPARDY!   |\")\n",
    "    print(\"+--------------------------------+\")\n",
    "    print(\"| Please select an option:       |\")\n",
    "    print(\"|                                |\")\n",
    "    print(\"| 1. Play Literature quiz        |\")\n",
    "    print(\"| 2. Play General Knowledge quiz |\")\n",
    "    print(\"| 0. Quit                        |\")\n",
    "    print(\"+--------------------------------+\")\n",
    "    choice = input(\"Enter 1, 2, or 0: \")\n",
    "    if choice == \"1\":\n",
    "        play_literature_quiz()\n",
    "    elif choice == \"2\":\n",
    "        play_gl_knowledge_quiz()\n",
    "    else:\n",
    "        print(\"Thank for your laying!\")\n",
    "        quit()\n",
    "    return choice\n",
    "\n",
    "main_menu()\n",
    "    "
   ]
  }
 ],
 "metadata": {
  "kernelspec": {
   "display_name": "Python 3",
   "language": "python",
   "name": "python3"
  },
  "language_info": {
   "codemirror_mode": {
    "name": "ipython",
    "version": 3
   },
   "file_extension": ".py",
   "mimetype": "text/x-python",
   "name": "python",
   "nbconvert_exporter": "python",
   "pygments_lexer": "ipython3",
   "version": "3.8.5"
  }
 },
 "nbformat": 4,
 "nbformat_minor": 4
}
